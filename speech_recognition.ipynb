{
 "cells": [
  {
   "cell_type": "code",
   "execution_count": 1,
   "metadata": {},
   "outputs": [],
   "source": [
    "# create env var\n",
    "import os\n",
    "\n",
    "# Speech-to-Text service\n",
    "from google.cloud import speech, storage"
   ]
  },
  {
   "cell_type": "code",
   "execution_count": 2,
   "metadata": {},
   "outputs": [],
   "source": [
    "# api key\n",
    "os.environ['GOOGLE_APPLICATION_CREDENTIALS'] = './secrets/mock-buddy.json'\n",
    "\n",
    "speech_client = speech.SpeechClient()\n",
    "storage_client = storage.Client() "
   ]
  },
  {
   "cell_type": "code",
   "execution_count": 3,
   "metadata": {},
   "outputs": [],
   "source": [
    "# access bucket\n",
    "bucket = storage_client.get_bucket('stt-store')"
   ]
  },
  {
   "cell_type": "code",
   "execution_count": 4,
   "metadata": {},
   "outputs": [],
   "source": [
    "# upload wav to bucket\n",
    "def upload_to_g_bucket(file_name, file_path=None):\n",
    "    try:\n",
    "        blob = bucket.blob(file_name)\n",
    "        blob.upload_from_filename(file_name)\n",
    "        return True\n",
    "    except Exception as e:\n",
    "        print(e)\n",
    "        return False"
   ]
  },
  {
   "cell_type": "code",
   "execution_count": 60,
   "metadata": {},
   "outputs": [
    {
     "data": {
      "text/plain": [
       "True"
      ]
     },
     "execution_count": 60,
     "metadata": {},
     "output_type": "execute_result"
    }
   ],
   "source": [
    "upload_to_g_bucket('test_48.wav')"
   ]
  },
  {
   "cell_type": "code",
   "execution_count": 61,
   "metadata": {},
   "outputs": [],
   "source": [
    "# debug audio\n",
    "media_uri = 'gs://stt-store/test.wav'"
   ]
  },
  {
   "cell_type": "code",
   "execution_count": 64,
   "metadata": {},
   "outputs": [],
   "source": [
    "# instantiate audio var\n",
    "audio = speech.RecognitionAudio(uri=media_uri)\n",
    "\n",
    "# set metadata\n",
    "metadata = speech.RecognitionMetadata()\n",
    "metadata.interaction_type = speech.RecognitionMetadata.InteractionType.PRESENTATION\n",
    "metadata.original_media_type = speech.RecognitionMetadata.OriginalMediaType.AUDIO\n",
    "metadata.recording_device_type = speech.RecognitionMetadata.RecordingDeviceType.PC\n",
    "\n",
    "# add configs\n",
    "config = speech.RecognitionConfig(\n",
    "    encoding=speech.RecognitionConfig.AudioEncoding.LINEAR16,\n",
    "    # BETER CHEKC THIS WITH ALL LLLLLLLLLLLLLLLLLLLLLLLLLLLLLLLLLLLLLLLLLLLLLLl SAMPLE RATE\n",
    "    sample_rate_hertz=16000,\n",
    "    enable_automatic_punctuation=True,\n",
    "    language_code='en-US',  # HHHHHHHHHHHHHHHHHHHHHHHHHHHHHHHHHHHHHHHHHHHHHHHHHHHHHHHHHH\n",
    "    profanity_filter=False,  \n",
    "    use_enhanced=True,\n",
    "    audio_channel_count=1,\n",
    "    metadata=metadata,\n",
    ")\n"
   ]
  },
  {
   "cell_type": "code",
   "execution_count": 65,
   "metadata": {},
   "outputs": [],
   "source": [
    "res = speech_client.long_running_recognize(config=config, audio=audio)"
   ]
  },
  {
   "cell_type": "code",
   "execution_count": 66,
   "metadata": {},
   "outputs": [],
   "source": [
    "res = res.result(timeout=1200)"
   ]
  },
  {
   "cell_type": "code",
   "execution_count": 67,
   "metadata": {},
   "outputs": [
    {
     "name": "stdout",
     "output_type": "stream",
     "text": [
      "results {\n",
      "  alternatives {\n",
      "    transcript: \"This needs to be set to to explicitly and audio. Channel count will be greater than one to get each channel. To get an experiment spider play.\"\n",
      "    confidence: 0.9096200466156006\n",
      "  }\n",
      "  result_end_time {\n",
      "    seconds: 12\n",
      "    nanos: 770000000\n",
      "  }\n",
      "  language_code: \"en-us\"\n",
      "}\n",
      "total_billed_time {\n",
      "  seconds: 15\n",
      "}\n",
      "\n"
     ]
    }
   ],
   "source": [
    "print(res)"
   ]
  },
  {
   "cell_type": "code",
   "execution_count": 58,
   "metadata": {},
   "outputs": [
    {
     "name": "stdout",
     "output_type": "stream",
     "text": [
      "results {\n",
      "  alternatives {\n",
      "    transcript: \"This needs to be set to to explicitly and audio. Channel count will be greater than one to get each channel. To get an experiment spider play.\"\n",
      "    confidence: 0.9191977977752686\n",
      "  }\n",
      "  result_end_time {\n",
      "    seconds: 12\n",
      "    nanos: 770000000\n",
      "  }\n",
      "  language_code: \"en-us\"\n",
      "}\n",
      "total_billed_time {\n",
      "  seconds: 15\n",
      "}\n",
      "\n"
     ]
    }
   ],
   "source": [
    "print(res) #16"
   ]
  },
  {
   "cell_type": "code",
   "execution_count": 47,
   "metadata": {},
   "outputs": [
    {
     "name": "stdout",
     "output_type": "stream",
     "text": [
      "Transcript: Tana Nana Nana Nana Nana Nana\n"
     ]
    }
   ],
   "source": [
    "for result in res.results:\n",
    "    # 0 - high accurate output\n",
    "    print(\"Transcript: {}\".format(result.alternatives[0].transcript))"
   ]
  },
  {
   "cell_type": "code",
   "execution_count": null,
   "metadata": {},
   "outputs": [],
   "source": []
  },
  {
   "cell_type": "code",
   "execution_count": null,
   "metadata": {},
   "outputs": [],
   "source": []
  },
  {
   "cell_type": "code",
   "execution_count": 21,
   "metadata": {},
   "outputs": [],
   "source": [
    "import pyaudio\n",
    "import wave"
   ]
  },
  {
   "cell_type": "code",
   "execution_count": null,
   "metadata": {},
   "outputs": [],
   "source": [
    "audio = pyaudio.PyAudio()\n",
    "stream = audio.open(format=pyaudio.paInt16, channels=1,\n",
    "                     rate=16000, frames_per_buffer=1024, input=True)\n",
    "\n",
    "audio_frames = []\n",
    "i = 0\n",
    "while i < 200:\n",
    "    print(i)\n",
    "    i += 1\n",
    "    audio_frames.append(stream.read(1024))\n",
    "\n",
    "stream.stop_stream()\n",
    "stream.close()\n",
    "audio.terminate()\n",
    "\n",
    "sound_file = wave.open(\"test.wav\", \"wb\")\n",
    "sound_file.setnchannels(1)\n",
    "sound_file.setsampwidth(audio.get_sample_size(pyaudio.paInt16))\n",
    "sound_file.setframerate(16000)\n",
    "sound_file.writeframes(b''.join(audio_frames))\n",
    "sound_file.close()\n"
   ]
  },
  {
   "cell_type": "code",
   "execution_count": null,
   "metadata": {},
   "outputs": [],
   "source": []
  }
 ],
 "metadata": {
  "interpreter": {
   "hash": "e7370f93d1d0cde622a1f8e1c04877d8463912d04d973331ad4851f04de6915a"
  },
  "kernelspec": {
   "display_name": "Python 3.10.4 64-bit",
   "language": "python",
   "name": "python3"
  },
  "language_info": {
   "codemirror_mode": {
    "name": "ipython",
    "version": 3
   },
   "file_extension": ".py",
   "mimetype": "text/x-python",
   "name": "python",
   "nbconvert_exporter": "python",
   "pygments_lexer": "ipython3",
   "version": "3.10.4"
  },
  "orig_nbformat": 4
 },
 "nbformat": 4,
 "nbformat_minor": 2
}
